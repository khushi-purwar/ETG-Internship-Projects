{
  "nbformat": 4,
  "nbformat_minor": 0,
  "metadata": {
    "colab": {
      "name": "Olympics Data Analysis.ipynb",
      "provenance": []
    },
    "kernelspec": {
      "name": "python3",
      "display_name": "Python 3"
    },
    "language_info": {
      "name": "python"
    }
  },
  "cells": [
    {
      "cell_type": "markdown",
      "metadata": {
        "id": "a3jvQy1ce1j9"
      },
      "source": [
        "# Summer Olympics Data Analysis Assignment"
      ]
    },
    {
      "cell_type": "markdown",
      "metadata": {
        "id": "wwd_8HOfZCvD"
      },
      "source": [
        "# In this assignment, we have given some questions and we have to answer them by analyzing and ploting the data.\n",
        "\n"
      ]
    },
    {
      "cell_type": "markdown",
      "metadata": {
        "id": "ojwtAnObZ56u"
      },
      "source": [
        "**Following are the questions:**\n",
        "\n",
        "1.   In how many cities Summer Olympics is held so far?\n",
        "2.   Which sport is having most number of Gold Medals so far? (Top 5)\n",
        "3.   Which sport is having most number of medals so far? (Top 5)\n",
        "4.   Which player has won most number of medals? (Top 5)\n",
        "5.   Which player has won most number Gold Medals of medals?(Top 5)\n",
        "6.   In which year India won first Gold Medal in Summer Olympics?\n",
        "7.   Which event is most popular in terms on number of players? (Top 5)\n",
        "8.   Which sport is having most female Gold Medalists?(Top 5)\n",
        "\n"
      ]
    },
    {
      "cell_type": "markdown",
      "metadata": {
        "id": "kqbxduEuYcsu"
      },
      "source": [
        "# <b> Importing Libraries</b>"
      ]
    },
    {
      "cell_type": "code",
      "metadata": {
        "id": "fSjft-QPYgkP"
      },
      "source": [
        "import pandas as pd\n",
        "import numpy as np"
      ],
      "execution_count": null,
      "outputs": []
    },
    {
      "cell_type": "markdown",
      "metadata": {
        "id": "1HLfLZQJYYYN"
      },
      "source": [
        "# <b> Loading Data </b>"
      ]
    },
    {
      "cell_type": "code",
      "metadata": {
        "colab": {
          "base_uri": "https://localhost:8080/",
          "height": 204
        },
        "id": "C55mL9kSYyXJ",
        "outputId": "28cbd463-39c0-44fe-b8f1-9cde740d8c50"
      },
      "source": [
        "df = pd.read_csv(\"summer.csv\")\n",
        "df.head()"
      ],
      "execution_count": null,
      "outputs": [
        {
          "output_type": "execute_result",
          "data": {
            "text/html": [
              "<div>\n",
              "<style scoped>\n",
              "    .dataframe tbody tr th:only-of-type {\n",
              "        vertical-align: middle;\n",
              "    }\n",
              "\n",
              "    .dataframe tbody tr th {\n",
              "        vertical-align: top;\n",
              "    }\n",
              "\n",
              "    .dataframe thead th {\n",
              "        text-align: right;\n",
              "    }\n",
              "</style>\n",
              "<table border=\"1\" class=\"dataframe\">\n",
              "  <thead>\n",
              "    <tr style=\"text-align: right;\">\n",
              "      <th></th>\n",
              "      <th>Year</th>\n",
              "      <th>City</th>\n",
              "      <th>Sport</th>\n",
              "      <th>Discipline</th>\n",
              "      <th>Athlete</th>\n",
              "      <th>Country</th>\n",
              "      <th>Gender</th>\n",
              "      <th>Event</th>\n",
              "      <th>Medal</th>\n",
              "    </tr>\n",
              "  </thead>\n",
              "  <tbody>\n",
              "    <tr>\n",
              "      <th>0</th>\n",
              "      <td>1896</td>\n",
              "      <td>Athens</td>\n",
              "      <td>Aquatics</td>\n",
              "      <td>Swimming</td>\n",
              "      <td>HAJOS, Alfred</td>\n",
              "      <td>HUN</td>\n",
              "      <td>Men</td>\n",
              "      <td>100M Freestyle</td>\n",
              "      <td>Gold</td>\n",
              "    </tr>\n",
              "    <tr>\n",
              "      <th>1</th>\n",
              "      <td>1896</td>\n",
              "      <td>Athens</td>\n",
              "      <td>Aquatics</td>\n",
              "      <td>Swimming</td>\n",
              "      <td>HERSCHMANN, Otto</td>\n",
              "      <td>AUT</td>\n",
              "      <td>Men</td>\n",
              "      <td>100M Freestyle</td>\n",
              "      <td>Silver</td>\n",
              "    </tr>\n",
              "    <tr>\n",
              "      <th>2</th>\n",
              "      <td>1896</td>\n",
              "      <td>Athens</td>\n",
              "      <td>Aquatics</td>\n",
              "      <td>Swimming</td>\n",
              "      <td>DRIVAS, Dimitrios</td>\n",
              "      <td>GRE</td>\n",
              "      <td>Men</td>\n",
              "      <td>100M Freestyle For Sailors</td>\n",
              "      <td>Bronze</td>\n",
              "    </tr>\n",
              "    <tr>\n",
              "      <th>3</th>\n",
              "      <td>1896</td>\n",
              "      <td>Athens</td>\n",
              "      <td>Aquatics</td>\n",
              "      <td>Swimming</td>\n",
              "      <td>MALOKINIS, Ioannis</td>\n",
              "      <td>GRE</td>\n",
              "      <td>Men</td>\n",
              "      <td>100M Freestyle For Sailors</td>\n",
              "      <td>Gold</td>\n",
              "    </tr>\n",
              "    <tr>\n",
              "      <th>4</th>\n",
              "      <td>1896</td>\n",
              "      <td>Athens</td>\n",
              "      <td>Aquatics</td>\n",
              "      <td>Swimming</td>\n",
              "      <td>CHASAPIS, Spiridon</td>\n",
              "      <td>GRE</td>\n",
              "      <td>Men</td>\n",
              "      <td>100M Freestyle For Sailors</td>\n",
              "      <td>Silver</td>\n",
              "    </tr>\n",
              "  </tbody>\n",
              "</table>\n",
              "</div>"
            ],
            "text/plain": [
              "   Year    City     Sport  ... Gender                       Event   Medal\n",
              "0  1896  Athens  Aquatics  ...    Men              100M Freestyle    Gold\n",
              "1  1896  Athens  Aquatics  ...    Men              100M Freestyle  Silver\n",
              "2  1896  Athens  Aquatics  ...    Men  100M Freestyle For Sailors  Bronze\n",
              "3  1896  Athens  Aquatics  ...    Men  100M Freestyle For Sailors    Gold\n",
              "4  1896  Athens  Aquatics  ...    Men  100M Freestyle For Sailors  Silver\n",
              "\n",
              "[5 rows x 9 columns]"
            ]
          },
          "metadata": {},
          "execution_count": 2
        }
      ]
    },
    {
      "cell_type": "code",
      "metadata": {
        "colab": {
          "base_uri": "https://localhost:8080/"
        },
        "id": "MsTFB2duaT-7",
        "outputId": "38361cd0-9101-4c83-f662-bdaa78325797"
      },
      "source": [
        "df.shape"
      ],
      "execution_count": null,
      "outputs": [
        {
          "output_type": "execute_result",
          "data": {
            "text/plain": [
              "(31165, 9)"
            ]
          },
          "metadata": {},
          "execution_count": 3
        }
      ]
    },
    {
      "cell_type": "markdown",
      "metadata": {
        "id": "w2KHiSUlaWsm"
      },
      "source": [
        "There are 31165 rows and 9 columns(features)"
      ]
    },
    {
      "cell_type": "markdown",
      "metadata": {
        "id": "0EgonLNMa308"
      },
      "source": [
        "# <b> Summarizing the Data </b>"
      ]
    },
    {
      "cell_type": "code",
      "metadata": {
        "colab": {
          "base_uri": "https://localhost:8080/"
        },
        "id": "_XYVKTOPZlUH",
        "outputId": "8e20af18-4019-4b89-8ba9-f76feb04ae63"
      },
      "source": [
        "df.info()"
      ],
      "execution_count": null,
      "outputs": [
        {
          "output_type": "stream",
          "name": "stdout",
          "text": [
            "<class 'pandas.core.frame.DataFrame'>\n",
            "RangeIndex: 31165 entries, 0 to 31164\n",
            "Data columns (total 9 columns):\n",
            " #   Column      Non-Null Count  Dtype \n",
            "---  ------      --------------  ----- \n",
            " 0   Year        31165 non-null  int64 \n",
            " 1   City        31165 non-null  object\n",
            " 2   Sport       31165 non-null  object\n",
            " 3   Discipline  31165 non-null  object\n",
            " 4   Athlete     31165 non-null  object\n",
            " 5   Country     31161 non-null  object\n",
            " 6   Gender      31165 non-null  object\n",
            " 7   Event       31165 non-null  object\n",
            " 8   Medal       31165 non-null  object\n",
            "dtypes: int64(1), object(8)\n",
            "memory usage: 2.1+ MB\n"
          ]
        }
      ]
    },
    {
      "cell_type": "code",
      "metadata": {
        "colab": {
          "base_uri": "https://localhost:8080/",
          "height": 297
        },
        "id": "Px7yPyWKZnxz",
        "outputId": "0617f2fb-f5f1-44e6-f919-f6bd5ec052c7"
      },
      "source": [
        "df.describe()"
      ],
      "execution_count": null,
      "outputs": [
        {
          "output_type": "execute_result",
          "data": {
            "text/html": [
              "<div>\n",
              "<style scoped>\n",
              "    .dataframe tbody tr th:only-of-type {\n",
              "        vertical-align: middle;\n",
              "    }\n",
              "\n",
              "    .dataframe tbody tr th {\n",
              "        vertical-align: top;\n",
              "    }\n",
              "\n",
              "    .dataframe thead th {\n",
              "        text-align: right;\n",
              "    }\n",
              "</style>\n",
              "<table border=\"1\" class=\"dataframe\">\n",
              "  <thead>\n",
              "    <tr style=\"text-align: right;\">\n",
              "      <th></th>\n",
              "      <th>Year</th>\n",
              "    </tr>\n",
              "  </thead>\n",
              "  <tbody>\n",
              "    <tr>\n",
              "      <th>count</th>\n",
              "      <td>31165.000000</td>\n",
              "    </tr>\n",
              "    <tr>\n",
              "      <th>mean</th>\n",
              "      <td>1970.482785</td>\n",
              "    </tr>\n",
              "    <tr>\n",
              "      <th>std</th>\n",
              "      <td>33.158416</td>\n",
              "    </tr>\n",
              "    <tr>\n",
              "      <th>min</th>\n",
              "      <td>1896.000000</td>\n",
              "    </tr>\n",
              "    <tr>\n",
              "      <th>25%</th>\n",
              "      <td>1948.000000</td>\n",
              "    </tr>\n",
              "    <tr>\n",
              "      <th>50%</th>\n",
              "      <td>1980.000000</td>\n",
              "    </tr>\n",
              "    <tr>\n",
              "      <th>75%</th>\n",
              "      <td>2000.000000</td>\n",
              "    </tr>\n",
              "    <tr>\n",
              "      <th>max</th>\n",
              "      <td>2012.000000</td>\n",
              "    </tr>\n",
              "  </tbody>\n",
              "</table>\n",
              "</div>"
            ],
            "text/plain": [
              "               Year\n",
              "count  31165.000000\n",
              "mean    1970.482785\n",
              "std       33.158416\n",
              "min     1896.000000\n",
              "25%     1948.000000\n",
              "50%     1980.000000\n",
              "75%     2000.000000\n",
              "max     2012.000000"
            ]
          },
          "metadata": {},
          "execution_count": 5
        }
      ]
    },
    {
      "cell_type": "code",
      "metadata": {
        "colab": {
          "base_uri": "https://localhost:8080/"
        },
        "id": "GtKBI03pV_wO",
        "outputId": "618b494b-076a-4db3-fa31-134dc991ca13"
      },
      "source": [
        "print(df['Gender'].unique())"
      ],
      "execution_count": null,
      "outputs": [
        {
          "output_type": "stream",
          "name": "stdout",
          "text": [
            "['Men' 'Women']\n"
          ]
        }
      ]
    },
    {
      "cell_type": "markdown",
      "metadata": {
        "id": "MRkiETtdXgwl"
      },
      "source": [
        "'Gender' column has 2 unique values"
      ]
    },
    {
      "cell_type": "code",
      "metadata": {
        "colab": {
          "base_uri": "https://localhost:8080/"
        },
        "id": "hs1U4lVQWLjG",
        "outputId": "7fa1a3b0-a74d-4ce8-868f-501bca0a5a2c"
      },
      "source": [
        "print(df['Medal'].unique())"
      ],
      "execution_count": null,
      "outputs": [
        {
          "output_type": "stream",
          "name": "stdout",
          "text": [
            "['Gold' 'Silver' 'Bronze']\n"
          ]
        }
      ]
    },
    {
      "cell_type": "markdown",
      "metadata": {
        "id": "aq0mG2K2XQ4a"
      },
      "source": [
        "'Medal' column has 3 unique values"
      ]
    },
    {
      "cell_type": "code",
      "metadata": {
        "colab": {
          "base_uri": "https://localhost:8080/"
        },
        "id": "PQrzlwvHWUKK",
        "outputId": "f77ee59b-b222-4800-a579-eb6db6a8ae77"
      },
      "source": [
        "print(df['Country'].unique())\n",
        "print(len(df['Country'].unique()))"
      ],
      "execution_count": null,
      "outputs": [
        {
          "output_type": "stream",
          "name": "stdout",
          "text": [
            "['HUN' 'AUT' 'GRE' 'USA' 'GER' 'GBR' 'FRA' 'AUS' 'DEN' 'SUI' 'ZZX' 'NED'\n",
            " 'BEL' 'IND' 'CAN' 'BOH' 'SWE' 'NOR' 'ESP' 'ITA' 'CUB' 'ANZ' 'RSA' 'FIN'\n",
            " 'RU1' 'EST' 'TCH' 'NZL' 'BRA' 'JPN' 'LUX' 'ARG' 'POL' 'POR' 'URU' 'YUG'\n",
            " 'ROU' 'HAI' 'EGY' 'PHI' 'IRL' 'CHI' 'LAT' 'MEX' 'TUR' 'PAN' 'JAM' 'SRI'\n",
            " 'KOR' 'PUR' 'PER' 'IRI' 'TRI' 'URS' 'VEN' 'BUL' 'LIB' 'EUA' 'ISL' 'PAK'\n",
            " 'BAH' 'BWI' 'TPE' 'ETH' 'MAR' 'GHA' 'IRQ' 'SIN' 'TUN' 'KEN' 'NGR' 'GDR'\n",
            " 'FRG' 'UGA' 'CMR' 'MGL' 'PRK' 'COL' 'NIG' 'THA' 'BER' 'TAN' 'GUY' 'ZIM'\n",
            " 'CHN' 'CIV' 'ZAM' 'DOM' 'ALG' 'SYR' 'SUR' 'CRC' 'INA' 'SEN' 'DJI' 'AHO'\n",
            " 'ISV' 'EUN' 'NAM' 'QAT' 'LTU' 'MAS' 'CRO' 'ISR' 'SLO' 'IOP' 'RUS' 'UKR'\n",
            " 'ECU' 'BDI' 'MOZ' 'CZE' 'BLR' 'TGA' 'KAZ' 'UZB' 'SVK' 'MDA' 'GEO' 'HKG'\n",
            " 'ARM' 'AZE' 'BAR' 'KSA' 'KGZ' 'KUW' 'VIE' 'MKD' 'SCG' 'ERI' 'PAR' 'UAE'\n",
            " 'SRB' 'SUD' 'MRI' 'TOG' 'TJK' 'AFG' nan 'BRN' 'GUA' 'GRN' 'TTO' 'BOT'\n",
            " 'MNE' 'CYP' 'SGP' 'GAB']\n",
            "148\n"
          ]
        }
      ]
    },
    {
      "cell_type": "markdown",
      "metadata": {
        "id": "EwHpHzpXXrlL"
      },
      "source": [
        "'Country' column has 148 unique values"
      ]
    },
    {
      "cell_type": "markdown",
      "metadata": {
        "id": "wkvDPX2Ha_V-"
      },
      "source": [
        "# <b> Checking for null values </b>"
      ]
    },
    {
      "cell_type": "code",
      "metadata": {
        "id": "_Mbdwgs4ZsSA",
        "colab": {
          "base_uri": "https://localhost:8080/"
        },
        "outputId": "664f6d10-86bf-4d55-f2e5-d642e420c5a0"
      },
      "source": [
        "df.isnull().sum()"
      ],
      "execution_count": null,
      "outputs": [
        {
          "output_type": "execute_result",
          "data": {
            "text/plain": [
              "Year          0\n",
              "City          0\n",
              "Sport         0\n",
              "Discipline    0\n",
              "Athlete       0\n",
              "Country       4\n",
              "Gender        0\n",
              "Event         0\n",
              "Medal         0\n",
              "dtype: int64"
            ]
          },
          "metadata": {},
          "execution_count": 6
        }
      ]
    },
    {
      "cell_type": "markdown",
      "metadata": {
        "id": "vIKd9F4DbL6p"
      },
      "source": [
        "4 null values present in country column"
      ]
    },
    {
      "cell_type": "markdown",
      "metadata": {
        "id": "SsL_fj4FbD5M"
      },
      "source": [
        "\n",
        "\n",
        "---\n",
        "\n",
        "\n",
        "\n"
      ]
    },
    {
      "cell_type": "markdown",
      "metadata": {
        "id": "Ns_OBwZLb3gg"
      },
      "source": [
        "# <b>Q1. In how many cities Summer Olympics is held so far?</b>"
      ]
    },
    {
      "cell_type": "code",
      "metadata": {
        "colab": {
          "base_uri": "https://localhost:8080/"
        },
        "id": "17ty8zg-b7bT",
        "outputId": "597d7307-a66b-4ede-d5ad-667da65f6b73"
      },
      "source": [
        "total_cities = len(df['City'].unique())\n",
        "total_cities"
      ],
      "execution_count": null,
      "outputs": [
        {
          "output_type": "execute_result",
          "data": {
            "text/plain": [
              "22"
            ]
          },
          "metadata": {},
          "execution_count": 7
        }
      ]
    },
    {
      "cell_type": "markdown",
      "metadata": {
        "id": "KMnd4uJ-cSLE"
      },
      "source": [
        "### A1. Summer Olympics is held in 22 cities so far\n",
        "\n",
        "\n",
        "\n",
        "\n",
        "\n",
        "\n",
        "\n"
      ]
    },
    {
      "cell_type": "markdown",
      "metadata": {
        "id": "C0EL516Bcjxs"
      },
      "source": [
        "# <b>Q2. Which sport is having most number of Gold Medals so far? (Top 5</b>)"
      ]
    },
    {
      "cell_type": "code",
      "metadata": {
        "id": "12gtogQbcCIn",
        "colab": {
          "base_uri": "https://localhost:8080/",
          "height": 415
        },
        "outputId": "93930d63-4a7f-4496-fc0f-7296a6fea088"
      },
      "source": [
        "filter_data = df[df['Medal'] == 'Gold']\n",
        "\n",
        "grouped_data = filter_data.groupby('Sport').count()['Medal'].sort_values(ascending=False).head()\n",
        "grouped_data.plot(x='Sport', kind='bar',figsize=(10,5), color=['black', 'red', 'green', 'blue', 'cyan'], title=\"Sport having most number of gold medals\")"
      ],
      "execution_count": null,
      "outputs": [
        {
          "output_type": "execute_result",
          "data": {
            "text/plain": [
              "<matplotlib.axes._subplots.AxesSubplot at 0x7f9eef426e50>"
            ]
          },
          "metadata": {},
          "execution_count": 77
        },
        {
          "output_type": "display_data",
          "data": {
            "image/png": "[encoded data removed]",
            "text/plain": [
              "<Figure size 720x360 with 1 Axes>"
            ]
          },
          "metadata": {
            "needs_background": "light"
          }
        }
      ]
    },
    {
      "cell_type": "markdown",
      "metadata": {
        "id": "ZarzPECFdcrv"
      },
      "source": [
        "# <b>Q3. Which sport is having most number of medals so far? (Top 5)</b>"
      ]
    },
    {
      "cell_type": "code",
      "metadata": {
        "id": "8z9bBa22eVmA",
        "colab": {
          "base_uri": "https://localhost:8080/",
          "height": 415
        },
        "outputId": "09759039-313b-4f26-b440-822078ff8690"
      },
      "source": [
        "grouped_data = df.groupby('Sport').count()['Medal'].sort_values(ascending=False).head()\n",
        "grouped_data.plot(x='Sport', kind='bar',figsize=(10,5), color=['black', 'red', 'green', 'blue', 'cyan'], title=\"Sport having most number of medals\")"
      ],
      "execution_count": null,
      "outputs": [
        {
          "output_type": "execute_result",
          "data": {
            "text/plain": [
              "<matplotlib.axes._subplots.AxesSubplot at 0x7f9eef408710>"
            ]
          },
          "metadata": {},
          "execution_count": 78
        },
        {
          "output_type": "display_data",
          "data": {
            "image/png": "[encoded data removed]",
            "text/plain": [
              "<Figure size 720x360 with 1 Axes>"
            ]
          },
          "metadata": {
            "needs_background": "light"
          }
        }
      ]
    },
    {
      "cell_type": "markdown",
      "metadata": {
        "id": "1GAvbdD99LD9"
      },
      "source": [
        "# <b>Q4. Which player has won most number of medals? (Top 5)</b>"
      ]
    },
    {
      "cell_type": "code",
      "metadata": {
        "colab": {
          "base_uri": "https://localhost:8080/",
          "height": 475
        },
        "id": "y713b56T23Os",
        "outputId": "25c1ffc0-d6b8-4fce-f7d7-e750fb925a28"
      },
      "source": [
        "grouped_data = df.groupby('Athlete').count()['Medal'].sort_values(ascending=False).head()\n",
        "grouped_data.plot(x='Athlete', kind='bar',figsize=(10,5),color=['black', 'red', 'green', 'blue', 'cyan'], title=\"Player having most number of medals\")"
      ],
      "execution_count": null,
      "outputs": [
        {
          "output_type": "execute_result",
          "data": {
            "text/plain": [
              "<matplotlib.axes._subplots.AxesSubplot at 0x7f9eef36d190>"
            ]
          },
          "metadata": {},
          "execution_count": 79
        },
        {
          "output_type": "display_data",
          "data": {
            "image/png": "[encoded data removed]",
            "text/plain": [
              "<Figure size 720x360 with 1 Axes>"
            ]
          },
          "metadata": {
            "needs_background": "light"
          }
        }
      ]
    },
    {
      "cell_type": "markdown",
      "metadata": {
        "id": "ywrErBkpDSOg"
      },
      "source": [
        "# <b>Q5. Which player has won most number Gold Medals of medals?(Top 5)</b>"
      ]
    },
    {
      "cell_type": "code",
      "metadata": {
        "colab": {
          "base_uri": "https://localhost:8080/",
          "height": 443
        },
        "id": "DsUF7eRzDS5-",
        "outputId": "c8319428-4afc-4c50-fbae-12c90ab4faf3"
      },
      "source": [
        "filter_data = df[df['Medal'] == 'Gold']\n",
        "\n",
        "grouped_data = filter_data.groupby('Athlete').count()['Medal'].sort_values(ascending=False).head()\n",
        "grouped_data.plot(x='Athlete', kind='bar',figsize=(10,5),color=['black', 'red', 'green', 'blue', 'cyan'], title=\"Player having most number of gold medals\")"
      ],
      "execution_count": null,
      "outputs": [
        {
          "output_type": "execute_result",
          "data": {
            "text/plain": [
              "<matplotlib.axes._subplots.AxesSubplot at 0x7f9eef30a8d0>"
            ]
          },
          "metadata": {},
          "execution_count": 80
        },
        {
          "output_type": "display_data",
          "data": {
            "image/png": "[encoded data removed]",
            "text/plain": [
              "<Figure size 720x360 with 1 Axes>"
            ]
          },
          "metadata": {
            "needs_background": "light"
          }
        }
      ]
    },
    {
      "cell_type": "markdown",
      "metadata": {
        "id": "12-FARpYDtBX"
      },
      "source": [
        "# <b>Q6. In which year India won first Gold Medal in Summer Olympics?</b>"
      ]
    },
    {
      "cell_type": "code",
      "metadata": {
        "colab": {
          "base_uri": "https://localhost:8080/",
          "height": 80
        },
        "id": "F5Mja-rZHS3i",
        "outputId": "8e8ea3b4-451f-4d0a-af2a-1384611760a3"
      },
      "source": [
        "filter_data = df[(df['Medal'] == 'Gold') & (df['Country'] == 'IND')]\n",
        "filter_data.sort_values('Year').head(1)"
      ],
      "execution_count": null,
      "outputs": [
        {
          "output_type": "execute_result",
          "data": {
            "text/html": [
              "<div>\n",
              "<style scoped>\n",
              "    .dataframe tbody tr th:only-of-type {\n",
              "        vertical-align: middle;\n",
              "    }\n",
              "\n",
              "    .dataframe tbody tr th {\n",
              "        vertical-align: top;\n",
              "    }\n",
              "\n",
              "    .dataframe thead th {\n",
              "        text-align: right;\n",
              "    }\n",
              "</style>\n",
              "<table border=\"1\" class=\"dataframe\">\n",
              "  <thead>\n",
              "    <tr style=\"text-align: right;\">\n",
              "      <th></th>\n",
              "      <th>Year</th>\n",
              "      <th>City</th>\n",
              "      <th>Sport</th>\n",
              "      <th>Discipline</th>\n",
              "      <th>Athlete</th>\n",
              "      <th>Country</th>\n",
              "      <th>Gender</th>\n",
              "      <th>Event</th>\n",
              "      <th>Medal</th>\n",
              "    </tr>\n",
              "  </thead>\n",
              "  <tbody>\n",
              "    <tr>\n",
              "      <th>5512</th>\n",
              "      <td>1928</td>\n",
              "      <td>Amsterdam</td>\n",
              "      <td>Hockey</td>\n",
              "      <td>Hockey</td>\n",
              "      <td>ALLEN, Richard James</td>\n",
              "      <td>IND</td>\n",
              "      <td>Men</td>\n",
              "      <td>Hockey</td>\n",
              "      <td>Gold</td>\n",
              "    </tr>\n",
              "  </tbody>\n",
              "</table>\n",
              "</div>"
            ],
            "text/plain": [
              "      Year       City   Sport Discipline  ... Country Gender   Event Medal\n",
              "5512  1928  Amsterdam  Hockey     Hockey  ...     IND    Men  Hockey  Gold\n",
              "\n",
              "[1 rows x 9 columns]"
            ]
          },
          "metadata": {},
          "execution_count": 111
        }
      ]
    },
    {
      "cell_type": "markdown",
      "metadata": {
        "id": "tZrr2vlCYB9D"
      },
      "source": [
        "### A6. India won the first Gold Medal in Summer Olympics in 1928"
      ]
    },
    {
      "cell_type": "markdown",
      "metadata": {
        "id": "lP6dy98DECer"
      },
      "source": [
        "# <b>Q7. Which event is most popular in terms on number of players? (Top 5)</b>"
      ]
    },
    {
      "cell_type": "code",
      "metadata": {
        "colab": {
          "base_uri": "https://localhost:8080/",
          "height": 447
        },
        "id": "fOHgzMw3DljM",
        "outputId": "e26228cb-14fa-4b86-bebb-11be25ef4eba"
      },
      "source": [
        "grouped_data = df.groupby('Event').count()['Athlete'].sort_values(ascending=False).head()\n",
        "grouped_data.plot(x='Event', kind='bar',figsize=(10,5),color=['black', 'red', 'green', 'blue', 'cyan'], title=\"Most popular events in terms of players\")"
      ],
      "execution_count": null,
      "outputs": [
        {
          "output_type": "execute_result",
          "data": {
            "text/plain": [
              "<matplotlib.axes._subplots.AxesSubplot at 0x7f9eef28e0d0>"
            ]
          },
          "metadata": {},
          "execution_count": 81
        },
        {
          "output_type": "display_data",
          "data": {
            "image/png": "[encoded data removed]",
            "text/plain": [
              "<Figure size 720x360 with 1 Axes>"
            ]
          },
          "metadata": {
            "needs_background": "light"
          }
        }
      ]
    },
    {
      "cell_type": "markdown",
      "metadata": {
        "id": "J62gYSxvE7Dh"
      },
      "source": [
        "# <b> Q8. Which sport is having most female Gold Medalists?(Top 5)</b>"
      ]
    },
    {
      "cell_type": "code",
      "metadata": {
        "colab": {
          "base_uri": "https://localhost:8080/",
          "height": 415
        },
        "id": "ceREkaSTJUHj",
        "outputId": "f7a4548f-4e82-446e-c25e-3b97aa32a2e1"
      },
      "source": [
        "filter_data = df[(df['Medal'] == 'Gold') & (df['Gender'] == 'Women')]\n",
        "\n",
        "grouped_data = filter_data.groupby('Sport').count()['Medal'].sort_values(ascending=False).head()\n",
        "grouped_data.plot(x='Sport', kind='bar',figsize=(10,5), color=['black', 'red', 'green', 'blue', 'cyan'], title=\"Sport having most female gold medalists\")"
      ],
      "execution_count": null,
      "outputs": [
        {
          "output_type": "execute_result",
          "data": {
            "text/plain": [
              "<matplotlib.axes._subplots.AxesSubplot at 0x7f9eef5b7f90>"
            ]
          },
          "metadata": {},
          "execution_count": 100
        },
        {
          "output_type": "display_data",
          "data": {
            "image/png": "[encoded data removed]",
            "text/plain": [
              "<Figure size 720x360 with 1 Axes>"
            ]
          },
          "metadata": {
            "needs_background": "light"
          }
        }
      ]
    },
    {
      "cell_type": "markdown",
      "metadata": {
        "id": "dDC5SH6EbKLI"
      },
      "source": [
        "# <b>Conclusion</b>\n",
        "\n",
        "## Answer of the above questions:\n",
        "\n",
        "#### <b>Q1.</b>  In how many cities Summer Olympics is held so far?\n",
        "\n",
        "A. 22\n",
        "\n",
        "#### <b>Q2.</b>   Which sport is having most number of Gold Medals so far? (Top 5)\n",
        "\n",
        "A. (Aquatics [ 1 ], Athletics [ 2 ], Rowing [ 3 ] ,Gymnastics[ 4 ], Fencing [ 5 ] )\n",
        "\n",
        "#### <b>Q3.</b>   Which sport is having most number of medals so far? (Top 5)\n",
        "\n",
        "A. (Aquatics [ 1 ], Athletics [ 2 ], Rowing [ 3 ] ,Gymnastics[ 4 ], Fencing [ 5 ] )\n",
        "\n",
        "#### <b>Q4.</b>   Which player has won most number of medals? (Top 5)\n",
        "\n",
        "A. (PHELPS, Michael [ 1 ] , LATYNINA, Larisa [ 2 ] , ANDRIANOV, Nikolay [ 3 ] , MANGIAROTTI, Edoardo [ 4 ] , SHAKHLIN, Boris [ 5 ] )\n",
        "\n",
        "#### <b>Q5.</b>   Which player has won most number Gold Medals of medals?(Top 5)\n",
        "\n",
        "A. (PHELPS, Michael [ 1 ] , NURMI, Paavo [ 2 ] , SPITZ, Mark [ 3 ] , LEWIS, Carl [ 4 ] , LATYNINA, Larisa [ 5 ] )\n",
        "\n",
        "#### <b>Q6.</b>  In which year India won first Gold Medal in Summer Olympics?\n",
        "\n",
        "A. 1928\n",
        "\n",
        "#### <b>Q7.</b>   Which event is most popular in terms on number of players? (Top 5)\n",
        "\n",
        "A. (Football [ 1 ], Hockey [ 2 ], Team Competition [ 3 ] ,Basketball [ 4 ], Handball [ 5 ] )\n",
        "\n",
        "#### <b>Q8.</b>   Which sport is having most female Gold Medalists?(Top 5)\n",
        "\n",
        "A. (Aquatics [ 1 ], Athletics [ 2 ], Gymnastics [ 3 ] ,Rowing [ 4 ], Volleyball [ 5 ] )"
      ]
    }
  ]
}
