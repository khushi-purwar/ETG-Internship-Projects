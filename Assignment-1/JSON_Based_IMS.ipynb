{
  "nbformat": 4,
  "nbformat_minor": 0,
  "metadata": {
    "colab": {
      "name": "JSON-Based-IMS.ipynb",
      "provenance": [],
      "collapsed_sections": []
    },
    "kernelspec": {
      "name": "python3",
      "display_name": "Python 3"
    },
    "language_info": {
      "name": "python"
    }
  },
  "cells": [
    {
      "cell_type": "markdown",
      "metadata": {
        "id": "QTPWJVOA3IZx"
      },
      "source": [
        "#Complete Code with Admin and Normal User Functionalities"
      ]
    },
    {
      "cell_type": "markdown",
      "metadata": {
        "id": "m-8HVY2w6Qoo"
      },
      "source": [
        "**READ DATA FROM INVENTORY**"
      ]
    },
    {
      "cell_type": "code",
      "metadata": {
        "colab": {
          "base_uri": "https://localhost:8080/"
        },
        "id": "Vxjdcrdc3GPQ",
        "outputId": "e17daf9d-beed-4eec-944d-ff528fcd1f63"
      },
      "source": [
        "import json\n",
        "\n",
        "fd = open(\"record.json\", 'r')\n",
        "txt = fd.read()\n",
        "fd.close()\n",
        "\n",
        "record = json.loads(txt)\n",
        "\n",
        "print(record)"
      ],
      "execution_count": 1,
      "outputs": [
        {
          "output_type": "stream",
          "name": "stdout",
          "text": [
            "{'1001': {'name': 'AC', 'desc': 'Croma 1.5 Ton 5 Star Inverter Split AC', 'price': 129999, 'qty': 1476, 'category': 'Electronics', 'Rating': 3}, '1002': {'name': 'Vaccum Cleaner', 'desc': 'Panasonic 700 Watts Portable Vacuum Cleaner', 'price': 999, 'qty': 415, 'category': 'Electronics', 'Rating': 4}, '1003': {'name': 'Samsung Washing Machine', 'desc': 'Samsung 6.5 Kg Fully Automatic Top Load Washing Machine ', 'price': 91999, 'qty': 2740, 'category': 'Electronics', 'Rating': 2}, '1004': {'name': 'Godrej Washing Machine', 'desc': 'Godrej Edge 8.5 kg 5 Star Semi-Automatic Top Load Washing Machine', 'price': 3999, 'qty': 317, 'category': 'Electronics', 'Rating': 5}, '1005': {'name': 'LG Washing machine', 'desc': 'LG 8 kg 5 Star Semi-Automatic Top Load Washing Machine', 'price': 6999, 'qty': 117, 'category': 'Electronics', 'Rating': 1}, '1006': {'name': 'Dell Laptop', 'desc': 'Dell Inspiron 13  Corei5 11th Gen Windows 10 Home Laptop', 'price': 79999, 'qty': 2500, 'category': 'Electronics', 'Rating': 5}, '1007': {'name': 'Asus Laptop', 'desc': 'Asus ZenBook Flip S UX371EA-HL701TS Core i7 11th Gen Windows 10 Home Thin and Light Laptop', 'price': 149999, 'qty': 1500, 'category': 'Electronics', 'Rating': 3}, '1008': {'name': 'Acer Laptop', 'decs': 'Acer Aspire 5 A514-54G Core i5 11th Gen Windows 10 Home Thin and Light Laptop', 'price': 99999, 'qty': 2500, 'category': 'Electronics', 'Rating': 2}, '1009': {'name': 'HP Laptop', 'desc': 'HP Pavilion 15-ec1051ax Ryzen 5 Windows 10 Home Single Language Gaming Laptop', 'price': 239999, 'qty': 4500, 'category': 'Electronics', 'Rating': 1}, '1010': {'name': 'Lenovo Laptop', 'desc': 'Lenovo IdeaPad 3 15IML05 (81WB015LIN) Core i3 10th Gen Windows 10 Home Laptop', 'price': 129999, 'qty': 9500, 'category': 'Electronics', 'Rating': 5}, '1011': {'name': 'Croma Fan', 'desc': 'Croma Floor Standing Tower Fan (CRAF0028, White & Black)', 'price': 9999, 'qty': 500, 'category': 'Electronics', 'Rating': 2}, '1012': {'name': 'EarBuds', 'desc': 'OnePlus Buds Z In-Ear Truly Wireless Earbuds with Mic', 'price': 9999, 'qty': 500, 'category': 'Electronics', 'Rating': 3}, '1013': {'name': 'Samsung Phone', 'desc': 'Samsung Galaxy A52 (128GB ROM, 6GB RAM, SM-A525FZBGINS, Awesome Blue)', 'price': 9999, 'qty': 500, 'category': 'Electronics', 'Rating': 5}, '1014': {'name': 'Oppo Phone', 'desc': 'Oppo F19 Pro (128GB ROM, 8GB RAM, CPH2285, Fluid Black)', 'price': 9999, 'qty': 500, 'category': 'Electronics', 'Rating': 4}, '1015': {'name': 'Sony TV', 'desc': 'Sony Bravia X75 Series 108cm (43 Inch) Ultra HD 4K LED Android Smart TV ', 'price': 129999, 'qty': 7500, 'category': 'Electronics', 'Rating': 5}, '1016': {'name': 'Xiaomi Smart TV', 'desc': 'Xiaomi Mi 4X 108cm (43 Inch) Ultra HD 4K LED Android Smart TV', 'price': 349999, 'qty': 5197, 'category': 'Electronics', 'Rating': 4}, '1017': {'name': 'Panasonic AC', 'desc': 'Panasonic Arc 1.5 Ton 5 Star Inverter Split AC', 'price': 349999, 'qty': 1500, 'category': 'Electronics', 'Rating': 2}, '1018': {'name': 'Sharp AC', 'desc': 'Sharp 1.5 Ton 5 Star Inverter Split AC', 'price': 329999, 'qty': 8500, 'category': 'Electronics', 'Rating': 5}, '1019': {'name': 'Voltas AC', 'desc': 'Voltas 1.5 Ton 5 Star Inverter Split AC', 'price': 9999, 'qty': 4500, 'category': 'Electronics', 'Rating': 1}, '1020': {'name': 'Hitachi AC', 'desc': 'Hitachi Kiyora 5100X 1.5 Ton 5 Star Inverter Split AC', 'price': 49999, 'qty': 8496, 'category': 'Electronics', 'Rating': 3}, '1021': {'name': 'Hair Dryer', 'desc': 'Remington 2 Setting Compact Hair Dryer (D1500, Black)', 'price': 129999, 'qty': 7500, 'category': 'Electronics', 'Rating': 2}, '1022': {'name': 'Dental Floss', 'desc': 'Oracura Smart Dental Floss for Unisex (3 Custom Modes, OC100, White)', 'price': 79999, 'qty': 2500, 'category': 'Electronics', 'Rating': 3}, '1023': {'name': 'Samsung Phone', 'desc': 'Samsung Galaxy A52 (128GB ROM, 6GB RAM, SM-A525FZBGINS, Awesome Blue)', 'price': 129999, 'qty': 500, 'category': 'Electronics', 'Rating': 5}, '1024': {'name': 'Oppo Phone', 'desc': 'Oppo F19 Pro (128GB ROM, 8GB RAM, CPH2285, Fluid Black)', 'price': 129999, 'qty': 31500, 'category': 'Electronics', 'Rating': 4}, '1025': {'name': 'Sony TV', 'desc': 'Sony Bravia X75 Series 108cm (43 Inch) Ultra HD 4K LED Android Smart TV ', 'price': 2129999, 'qty': 7498, 'category': 'Electronics', 'Rating': 5}, '1026': {'name': 'Xiaomi Smart TV', 'desc': 'Xiaomi Mi 4X 108cm (43 Inch) Ultra HD 4K LED Android Smart TV', 'price': 349999, 'qty': 5200, 'category': 'Electronics', 'Rating': 4}, '1027': {'name': 'Panasonic AC', 'desc': 'Panasonic Arc 1.5 Ton 5 Star Inverter Split AC', 'price': 349999, 'qty': 1497, 'category': 'Electronics', 'Rating': 2}, '1028': {'name': 'Haier AC', 'desc': 'Haier CleanCool 1.5 Ton 3 Star Inverter Split AC', 'price': 329999, 'qty': 8500, 'category': 'Electronics', 'Rating': 5}, '1029': {'name': 'Samsung Tablet', 'desc': 'Samsung Galaxy Tab S7 FE WiFi + 4G Android Tablet', 'price': 9999, 'qty': 5800, 'category': 'Electronics', 'Rating': 1}, '1030': {'name': 'Laptop', 'desc': 'Demo Laptop', 'price': 23452, 'qty': 1200, 'category': 'Electronics'}}\n"
          ]
        }
      ]
    },
    {
      "cell_type": "markdown",
      "metadata": {
        "id": "LRViL627C_Me"
      },
      "source": [
        "**PURCHASE FUNCTION**"
      ]
    },
    {
      "cell_type": "code",
      "metadata": {
        "id": "VOm73cGpDlpb"
      },
      "source": [
        "import time\n",
        "\n",
        "def purchase():\n",
        "\n",
        "  name = input(\"Enter your Full Name : \")\n",
        "  prod_id = input(\"Enter product id : \")\n",
        "  prod_qty = int(input(\"Enter quantity : \"))\n",
        "\n",
        "  if prod_id in record.keys():\n",
        "        print(\"\\n************** Bill ******************\\n\")\n",
        "        print(\"Name of the customer : \", name)\n",
        "        print(\"------------------------------------------\")\n",
        "        print(\"Product Name: \", record[prod_id]['name'])\n",
        "        print(\"Product Description: \", record[prod_id]['desc'])\n",
        "        print(\"Price: \", record[prod_id]['price'])\n",
        "        print(\"Quantity: \", prod_qty)\n",
        "        print(\"-----------------------------------------\")\n",
        "        if prod_qty > record[prod_id][\"qty\"]:\n",
        "          print(\"WE DON'T HAVE SUFFICIENT QUANTITY OF THIS PRODUCT!!!\")\n",
        "          print(\"***************************************\")\n",
        "        else:\n",
        "          print(\"Billing Amout: \", record[prod_id]['price']*prod_qty)\n",
        "          print(\"***************************************\")\n",
        "          record[prod_id]['qty'] = record[prod_id]['qty']-prod_qty\n",
        "\n",
        "          js = json.dumps(record)\n",
        "          fd = open(\"record.json\",'w')\n",
        "          fd.write(js)\n",
        "          fd.close()\n",
        "\n",
        "          # date and time\n",
        "          dt = time.ctime()\n",
        "          print(\"\\nProduct purchased on: \\n\", dt)\n",
        " \n",
        "          #  for transaction\n",
        "          sales(name, prod_id, prod_qty, dt)\n",
        "\n",
        "  else:\n",
        "      print(\"Product is not available!!!\")"
      ],
      "execution_count": 9,
      "outputs": []
    },
    {
      "cell_type": "markdown",
      "metadata": {
        "id": "1E1m-MP5PsFd"
      },
      "source": [
        "**TRANSACTION FUNCTION**"
      ]
    },
    {
      "cell_type": "code",
      "metadata": {
        "id": "T_fVpsc3PxW3"
      },
      "source": [
        "def sales(name, prod_id, prod_qty, dt):\n",
        "\n",
        "    # reading sales file\n",
        "    fd = open(\"sales.json\", 'r')\n",
        "    txt = fd.read()\n",
        "    fd.close()\n",
        "          \n",
        "    # adding new transaction\n",
        "    sales = json.loads(txt)\n",
        "    sales[str(len(sales) + 1)] = {\"Customer Name\": name ,\"Product Name\" : record[prod_id]['name'], \"Price\" : record[prod_id]['price'],\n",
        "                                    \"Qty Purchased\" : prod_qty, \"Billing Amount\" : record[prod_id]['price']*prod_qty, \"Date/Time\" : dt }\n",
        "\n",
        "    #  writing new transaction into sales file\n",
        "    js = json.dumps(sales)\n",
        "    fd = open(\"sales.json\",'w')\n",
        "    fd.write(js)\n",
        "    fd.close()"
      ],
      "execution_count": 22,
      "outputs": []
    },
    {
      "cell_type": "markdown",
      "metadata": {
        "id": "CdRQYp6eKIyF"
      },
      "source": [
        "**ADD NEW ITEM**"
      ]
    },
    {
      "cell_type": "code",
      "metadata": {
        "id": "qIjp9RKCKLXR"
      },
      "source": [
        "def add_new_item():\n",
        "\n",
        "  prod_id = input(\"Enter the product id : \")\n",
        "\n",
        "  if prod_id in record.keys():\n",
        "    print(\"Product with the same id already exists!\")\n",
        "  else:\n",
        "    prod_name = input(\"Enter the product name : \")\n",
        "    prod_desc = input(\"Enter product description : \")\n",
        "    prod_price = int(input(\"Enter the product price : \"))\n",
        "    prod_qty = int(input(\"Enter the product quantity : \"))\n",
        "    prod_category = input(\"Enter category of a product : \")\n",
        "    record[prod_id] = {\"name\" : prod_name, \"desc\" : prod_desc ,\"price\" : prod_price, \"qty\": prod_qty, \"category\" : prod_category}\n",
        "      \n",
        "    print(\"A new item is added with id \", prod_id)\n",
        "    js = json.dumps(record)\n",
        "\n",
        "    fd = open(\"record.json\",'w')\n",
        "    fd.write(js)\n",
        "    fd.close()\n"
      ],
      "execution_count": 4,
      "outputs": []
    },
    {
      "cell_type": "markdown",
      "metadata": {
        "id": "xYVVdAMayo9H"
      },
      "source": [
        "**UPDATING EXISTING ITEM**"
      ]
    },
    {
      "cell_type": "code",
      "metadata": {
        "id": "KMozM-DGyoev"
      },
      "source": [
        "def update():\n",
        "  prod_id = input(\"Enter the product id : \")\n",
        "\n",
        "  if prod_id in record.keys():\n",
        "    prod_price = int(input(\"Enter the new product price : \"))\n",
        "    prod_qty = int(input(\"Enter the product quantity : \"))\n",
        "\n",
        "    print(prod_id ,\" is updated successfully!\")\n",
        "\n",
        "    record[prod_id]['price'] = prod_price\n",
        "    record[prod_id]['qty'] = record[prod_id]['qty'] + prod_qty\n",
        "  else:\n",
        "    print(\"Product is not available with id \", prod_id)\n",
        "\n",
        "  js = json.dumps(record)\n",
        "\n",
        "  fd = open(\"record.json\",'w')\n",
        "  fd.write(js)\n",
        "  fd.close()"
      ],
      "execution_count": 5,
      "outputs": []
    },
    {
      "cell_type": "markdown",
      "metadata": {
        "id": "tMvj4bb2-ucZ"
      },
      "source": [
        "**DELETING AN ITEM**"
      ]
    },
    {
      "cell_type": "code",
      "metadata": {
        "id": "VqThX2rd-y2k"
      },
      "source": [
        "def delete():\n",
        "  prod_id = input(\"Enter the product id : \")\n",
        "\n",
        "  if prod_id in record.keys():\n",
        "    del record[prod_id]\n",
        "    print(prod_id ,\" is deleted successfully!\")\n",
        "  else:\n",
        "    print(\"Product is not available with id \", prod_id)\n",
        "\n",
        "  js = json.dumps(record)\n",
        "\n",
        "  fd = open(\"record.json\",'w')\n",
        "  fd.write(js)\n",
        "  fd.close()"
      ],
      "execution_count": 6,
      "outputs": []
    },
    {
      "cell_type": "markdown",
      "metadata": {
        "id": "b3lsseek10_L"
      },
      "source": [
        "**DISPLAY FUNCTION**"
      ]
    },
    {
      "cell_type": "code",
      "metadata": {
        "id": "ThU8D3V813nY"
      },
      "source": [
        "def display():\n",
        "  fd = open(\"record.json\", 'r')\n",
        "  txt = fd.read()\n",
        "  fd.close()\n",
        "\n",
        "  record = json.loads(txt)\n",
        "\n",
        "  print(record)"
      ],
      "execution_count": 7,
      "outputs": []
    },
    {
      "cell_type": "markdown",
      "metadata": {
        "id": "_DX9gT9iJuyU"
      },
      "source": [
        "**MAIN FUNCTION**"
      ]
    },
    {
      "cell_type": "code",
      "metadata": {
        "id": "a2KX4zSQDbi2",
        "colab": {
          "base_uri": "https://localhost:8080/"
        },
        "outputId": "d71da89c-5a17-497e-f850-dbc87004a375"
      },
      "source": [
        "whoAreU = input(\"Are u a admin or user?(Type admin/user) : \")\n",
        "print(\"\\nYou are a \",whoAreU,\"\\n\")\n",
        "if whoAreU == 'user':\n",
        "  print(\"Enter the required details : \\n\")\n",
        "  purchase()\n",
        "elif whoAreU == 'admin':\n",
        "  choice = input(\"What u want to do? Choose add/update/delete/display : \")\n",
        "  if choice == 'add':\n",
        "    add_new_item()\n",
        "  elif choice == 'update':\n",
        "    update()\n",
        "  elif choice == 'delete':\n",
        "    delete()\n",
        "  elif choice == 'display':\n",
        "    print(\"\\nData present in your store are as follow :  \\n\")\n",
        "    display()\n",
        "else:\n",
        "  print(\"You entered a wrong choice!\")\n"
      ],
      "execution_count": 8,
      "outputs": [
        {
          "output_type": "stream",
          "name": "stdout",
          "text": [
            "Are u a admin or user?(Type admin/user) : user\n",
            "\n",
            "You are a  user \n",
            "\n",
            "Enter the required details : \n",
            "\n",
            "Enter your name : Rahul\n",
            "Enter product id : 1012\n",
            "Enter quantity : 3\n",
            "\n",
            "************** Bill ******************\n",
            "\n",
            "Name of the customer :  Rahul\n",
            "------------------------------------------\n",
            "Product Name:  EarBuds\n",
            "Product Description:  OnePlus Buds Z In-Ear Truly Wireless Earbuds with Mic\n",
            "Price:  9999\n",
            "Quantity:  3\n",
            "-----------------------------------------\n",
            "Billing Amout:  29997\n",
            "***************************************\n",
            "\n",
            "Product purchased on: \n",
            " Sun Sep  5 18:46:52 2021\n"
          ]
        }
      ]
    },
    {
      "cell_type": "markdown",
      "metadata": {
        "id": "9GH2Gp4eUYoV"
      },
      "source": [
        "**TOTAL SALE OF THE DAY**"
      ]
    },
    {
      "cell_type": "code",
      "metadata": {
        "colab": {
          "base_uri": "https://localhost:8080/"
        },
        "id": "lTtqmNILSyNV",
        "outputId": "8069ff82-fb9b-40ef-b8c4-737fd8a5c6e6"
      },
      "source": [
        "from datetime import date\n",
        "\n",
        "# current date\n",
        "today = date.today()\n",
        "date = today.strftime(\"%d/%m/%Y\")\n",
        "\n",
        "# reading sales data\n",
        "fd = open(\"sales.json\", 'r')\n",
        "txt = fd.read()\n",
        "fd.close()\n",
        "\n",
        "sales = json.loads(txt)\n",
        "\n",
        "total_sales = 0\n",
        "\n",
        "for i in sales.keys():\n",
        "  total_sales = total_sales + sales[i][\"Billing Amount\"]\n",
        "\n",
        "print(\"Total Sales on\",date, \"is\", total_sales)"
      ],
      "execution_count": 34,
      "outputs": [
        {
          "output_type": "stream",
          "name": "stdout",
          "text": [
            "Total Sales on 05/09/2021 is 6054973\n"
          ]
        }
      ]
    },
    {
      "cell_type": "code",
      "metadata": {
        "id": "0Bm8ZNiZTAVb"
      },
      "source": [
        ""
      ],
      "execution_count": null,
      "outputs": []
    }
  ]
}