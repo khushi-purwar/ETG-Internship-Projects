{
  "nbformat": 4,
  "nbformat_minor": 0,
  "metadata": {
    "colab": {
      "name": "Inventory-Management-System.ipynb",
      "provenance": []
    },
    "kernelspec": {
      "name": "python3",
      "display_name": "Python 3"
    },
    "language_info": {
      "name": "python"
    }
  },
  "cells": [
    {
      "cell_type": "markdown",
      "metadata": {
        "id": "5dmeYMmhsthk"
      },
      "source": [
        "**Reading Data From File**"
      ]
    },
    {
      "cell_type": "code",
      "metadata": {
        "colab": {
          "base_uri": "https://localhost:8080/",
          "height": 53
        },
        "id": "T_O1EBzrt-en",
        "outputId": "e5c57cf8-2018-4427-ff30-d617042feffb"
      },
      "source": [
        "fp = open(\"Records.txt\",'r')\n",
        "file_data = fp.read()\n",
        "file_data"
      ],
      "execution_count": null,
      "outputs": [
        {
          "output_type": "execute_result",
          "data": {
            "application/vnd.google.colaboratory.intrinsic+json": {
              "type": "string"
            },
            "text/plain": [
              "'1000,Laptop,5999,80\\n1001,Mouse,2799,205\\n1002,Keyboard,1999,120\\n1003,Printer,599,50\\n1004,Scanner,499,130\\n1005,Joystick,299,50\\n1006,CPU,9999,100'"
            ]
          },
          "metadata": {},
          "execution_count": 1
        }
      ]
    },
    {
      "cell_type": "markdown",
      "metadata": {
        "id": "zpqWdcTRtRaz"
      },
      "source": [
        "**Spliting the data from string to list**"
      ]
    },
    {
      "cell_type": "code",
      "metadata": {
        "id": "MHKbi24yvHC2",
        "colab": {
          "base_uri": "https://localhost:8080/"
        },
        "outputId": "23cad4af-203f-4fe6-9117-7104bfd479fa"
      },
      "source": [
        "products = file_data.split('\\n')\n",
        "products"
      ],
      "execution_count": null,
      "outputs": [
        {
          "output_type": "execute_result",
          "data": {
            "text/plain": [
              "['1000,Laptop,5999,80',\n",
              " '1001,Mouse,2799,205',\n",
              " '1002,Keyboard,1999,120',\n",
              " '1003,Printer,599,50',\n",
              " '1004,Scanner,499,130',\n",
              " '1005,Joystick,299,50',\n",
              " '1006,CPU,9999,100']"
            ]
          },
          "metadata": {},
          "execution_count": 2
        }
      ]
    },
    {
      "cell_type": "markdown",
      "metadata": {
        "id": "QxhqEqSPteIk"
      },
      "source": [
        "**Purchasing the product**"
      ]
    },
    {
      "cell_type": "code",
      "metadata": {
        "colab": {
          "base_uri": "https://localhost:8080/"
        },
        "id": "8maUtZIgyCWd",
        "outputId": "92aa3704-cbd9-4f70-8ff5-9eeb5e952a1c"
      },
      "source": [
        "ui_prod = input(\"Enter the product id : \")\n",
        "ui_qty = int(input(\"Enter the quantity : \"))\n",
        "\n",
        "\n",
        "for product in products:\n",
        "  prod = product.split(',')\n",
        "\n",
        "  uid = True\n",
        "  if prod[0] == ui_prod:\n",
        "    print(\"***********************\")\n",
        "    print(\"Product ID: \", prod[0])\n",
        "    print(\"Name: \", prod[1])\n",
        "    print(\"Price: \",prod[2])\n",
        "    if ui_qty > int(prod[3]):\n",
        "      print(\"WE DON'T HAVE SUFFICIENT QUANTITY OF THIS PRODUCT!!!\")\n",
        "      print(\"***********************\")\n",
        "      break;\n",
        "    else:\n",
        "      print(\"------------------------\")\n",
        "      print(\"Billing Amout: \", ui_qty * int(prod[2]))\n",
        "      print(\"***********************\")\n",
        "      break;\n",
        "  else:\n",
        "    uid=False\n",
        "\n",
        "if(uid == False):\n",
        "  print(\"Product is not available for the user entered id!!!\")  "
      ],
      "execution_count": null,
      "outputs": [
        {
          "output_type": "stream",
          "name": "stdout",
          "text": [
            "Enter the product id : 1002\n",
            "Enter the quantity : 20\n",
            "***********************\n",
            "Product ID:  1002\n",
            "Name:  Keyboard\n",
            "Price:  1999\n",
            "------------------------\n",
            "Billing Amout:  39980\n",
            "***********************\n"
          ]
        }
      ]
    },
    {
      "cell_type": "markdown",
      "metadata": {
        "id": "qyUawXK-tkr4"
      },
      "source": [
        "**Updating quantity after purchasing**"
      ]
    },
    {
      "cell_type": "code",
      "metadata": {
        "id": "ZXAzD7ik2BbW"
      },
      "source": [
        "new_record = []\n",
        "\n",
        "for product in products:\n",
        "    prod = product.split(\",\")\n",
        "    if(ui_prod == prod[0]):\n",
        "        prod[3] = str(int(prod[3]) - ui_qty)\n",
        "        \n",
        "    new_record.append(prod[0] + \",\" + prod[1] + \",\" + prod[2] + \",\" + prod[3] + \"\\n\")\n",
        "    \n",
        "new_record[-1] = new_record[-1][:-1]"
      ],
      "execution_count": null,
      "outputs": []
    },
    {
      "cell_type": "markdown",
      "metadata": {
        "id": "wv7KFJlbtsN9"
      },
      "source": [
        "**Writing new records into file**"
      ]
    },
    {
      "cell_type": "code",
      "metadata": {
        "id": "VaFZ_XnT1n_8"
      },
      "source": [
        "fd = open(\"Records.txt\", 'w')\n",
        "\n",
        "for i in new_record:\n",
        "    fd.write(i)\n",
        "    \n",
        "fd.close()"
      ],
      "execution_count": null,
      "outputs": []
    },
    {
      "cell_type": "markdown",
      "metadata": {
        "id": "poHK_oIJ3Jnu"
      },
      "source": [
        "**Adding New Product**"
      ]
    },
    {
      "cell_type": "code",
      "metadata": {
        "colab": {
          "base_uri": "https://localhost:8080/"
        },
        "id": "9eInIisG3I3W",
        "outputId": "9f6e9fbe-4086-4044-96f7-4afcd9eecbda"
      },
      "source": [
        "prod_id = input(\"Enter the product id : \")\n",
        "prod_name = input(\"Enter the product name : \")\n",
        "prod_price = int(input(\"Enter the product price : \"))\n",
        "prod_qty = int(input(\"Enter the product quantity : \"))"
      ],
      "execution_count": null,
      "outputs": [
        {
          "name": "stdout",
          "output_type": "stream",
          "text": [
            "Enter the product id : 1001\n",
            "Enter the product name : 12\n",
            "Enter the product price : 12\n",
            "Enter the product quantity : 20\n"
          ]
        }
      ]
    },
    {
      "cell_type": "code",
      "metadata": {
        "colab": {
          "base_uri": "https://localhost:8080/"
        },
        "id": "ZO2zToD14dwa",
        "outputId": "0389c4af-e8a1-4008-c24c-89d4efafc316"
      },
      "source": [
        "for product in products:\n",
        "    prod = product.split(\",\")\n",
        "\n",
        "    id = 'true'\n",
        "    if prod_id == prod[0]:\n",
        "      id = 'false'\n",
        "      break;\n",
        "\n",
        "if(id == 'true'):    \n",
        "  item = prod_id+\",\"+prod_name+\",\"+str(prod_price)+\",\"+str(prod_qty)\n",
        "  print(item)\n",
        "  products.append(item)\n",
        "  products\n",
        "  print(\"product added successfully!\")\n",
        "else:\n",
        "  print(\"Product with the same id already exists!\")"
      ],
      "execution_count": null,
      "outputs": [
        {
          "output_type": "stream",
          "name": "stdout",
          "text": [
            "Product with the same id already exists!\n"
          ]
        }
      ]
    },
    {
      "cell_type": "code",
      "metadata": {
        "colab": {
          "base_uri": "https://localhost:8080/"
        },
        "id": "syLyzo1_7sa6",
        "outputId": "aa932283-88d4-40ef-f7d8-f4d5b9ea6806"
      },
      "source": [
        "products"
      ],
      "execution_count": null,
      "outputs": [
        {
          "output_type": "execute_result",
          "data": {
            "text/plain": [
              "['1000,Laptop,5999,80',\n",
              " '1001,Mouse,2799,205',\n",
              " '1002,Keyboard,1999,120',\n",
              " '1003,Printer,599,50',\n",
              " '1004,Scanner,499,130',\n",
              " '1005,Joystick,299,50',\n",
              " '1006,CPU,9999,100']"
            ]
          },
          "metadata": {},
          "execution_count": 8
        }
      ]
    },
    {
      "cell_type": "code",
      "metadata": {
        "id": "bemY7Pcj_9xM"
      },
      "source": [
        "new_record = []\n",
        "\n",
        "for product in products:\n",
        "    prod = product.split(\",\")\n",
        "       \n",
        "    new_record.append(prod[0] + \",\" + prod[1] + \",\" + prod[2] + \",\" + prod[3] + \"\\n\")\n",
        "    \n",
        "new_record[-1] = new_record[-1][:-1]\n",
        "\n",
        "fd = open(\"Records.txt\", 'w')\n",
        "\n",
        "for i in new_record:\n",
        "      fd.write(i)\n",
        "      \n",
        "fd.close()"
      ],
      "execution_count": null,
      "outputs": []
    },
    {
      "cell_type": "markdown",
      "metadata": {
        "id": "-t4PimMTxJ_S"
      },
      "source": [
        "**Updating the product**"
      ]
    },
    {
      "cell_type": "code",
      "metadata": {
        "colab": {
          "base_uri": "https://localhost:8080/"
        },
        "id": "pXtP2P1YxOR9",
        "outputId": "64dc98cb-8e08-4bff-ed32-4d961856d718"
      },
      "source": [
        "prod_id = input(\"Enter the product id : \")\n",
        "upd_price = int(input(\"Enter the new product price : \"))\n",
        "upd_qty = int(input(\"Enter the product quantity : \"))"
      ],
      "execution_count": null,
      "outputs": [
        {
          "name": "stdout",
          "output_type": "stream",
          "text": [
            "Enter the product id : 1000\n",
            "Enter the new product price : 3999\n",
            "Enter the product quantity : 120\n"
          ]
        }
      ]
    },
    {
      "cell_type": "code",
      "metadata": {
        "colab": {
          "base_uri": "https://localhost:8080/"
        },
        "id": "zX3dc3EcxiBy",
        "outputId": "8bcca8dc-e6f5-4b82-84b0-1a146ad3d4d2"
      },
      "source": [
        "new_records = []\n",
        "\n",
        "for product in products:\n",
        "    prod = product.split(\",\")\n",
        "    if prod_id == prod[0]:\n",
        "        prod[2] = str(upd_price)\n",
        "        prod[3] = str(int(prod[3])+upd_qty)\n",
        "        new_records.append(prod[0] + \",\" + prod[1] + \",\" + prod[2] + \",\" + prod[3] + \"\\n\")\n",
        "        print(\"Update successfully!\")\n",
        "    else:\n",
        "        new_records.append(prod[0] + \",\" + prod[1] + \",\" + prod[2] + \",\" + prod[3] + \"\\n\")\n",
        "\n",
        "new_records[-1] = new_records[-1][:-1]\n",
        "\n",
        "fd = open(\"Records.txt\", 'w')\n",
        "\n",
        "for i in new_records:\n",
        "      fd.write(i)\n",
        "      \n",
        "fd.close()\n",
        "\n",
        "\n",
        "    "
      ],
      "execution_count": null,
      "outputs": [
        {
          "output_type": "stream",
          "name": "stdout",
          "text": [
            "Update successfully!\n"
          ]
        }
      ]
    },
    {
      "cell_type": "code",
      "metadata": {
        "id": "d4G0QJuj8XSw"
      },
      "source": [
        ""
      ],
      "execution_count": null,
      "outputs": []
    },
    {
      "cell_type": "code",
      "metadata": {
        "id": "jR_JOk8l8XWS"
      },
      "source": [
        ""
      ],
      "execution_count": null,
      "outputs": []
    },
    {
      "cell_type": "code",
      "metadata": {
        "id": "mrTk-LCt8Xn4"
      },
      "source": [
        ""
      ],
      "execution_count": null,
      "outputs": []
    },
    {
      "cell_type": "code",
      "metadata": {
        "id": "15gCrscN8XrX"
      },
      "source": [
        ""
      ],
      "execution_count": null,
      "outputs": []
    },
    {
      "cell_type": "markdown",
      "metadata": {
        "id": "Rldxk7Jrzsap"
      },
      "source": [
        "##Complete code with the functionality of admin and normal user\n",
        "\n",
        "\n",
        "\n",
        "\n",
        "\n",
        "\n",
        "\n",
        "\n",
        "\n"
      ]
    },
    {
      "cell_type": "markdown",
      "metadata": {
        "id": "Yvapl4xcG_pH"
      },
      "source": [
        "**Reading data from file**"
      ]
    },
    {
      "cell_type": "code",
      "metadata": {
        "colab": {
          "base_uri": "https://localhost:8080/",
          "height": 53
        },
        "id": "Fow-_ZHHzrhs",
        "outputId": "81f8354d-a6f8-4e26-dfb3-3cba79fe9ee4"
      },
      "source": [
        "fp = open(\"Records.txt\",'r')\n",
        "file_data = fp.read()\n",
        "file_data"
      ],
      "execution_count": null,
      "outputs": [
        {
          "output_type": "execute_result",
          "data": {
            "application/vnd.google.colaboratory.intrinsic+json": {
              "type": "string"
            },
            "text/plain": [
              "'1000,Laptop,3999,200\\n1001,Mouse,2799,205\\n1002,Keyboard,1999,120\\n1003,Printer,599,50\\n1004,Scanner,499,130\\n1005,Joystick,299,50\\n1006,CPU,9999,100'"
            ]
          },
          "metadata": {},
          "execution_count": 12
        }
      ]
    },
    {
      "cell_type": "markdown",
      "metadata": {
        "id": "CqdT0TybHE3J"
      },
      "source": [
        "**Spliting data from string into list**"
      ]
    },
    {
      "cell_type": "code",
      "metadata": {
        "colab": {
          "base_uri": "https://localhost:8080/"
        },
        "id": "Ah48e_8wzx3a",
        "outputId": "3a572be4-d132-44fa-b0f2-855f170ec0fe"
      },
      "source": [
        "products = file_data.split('\\n')\n",
        "products"
      ],
      "execution_count": null,
      "outputs": [
        {
          "output_type": "execute_result",
          "data": {
            "text/plain": [
              "['1000,Laptop,3999,200',\n",
              " '1001,Mouse,2799,205',\n",
              " '1002,Keyboard,1999,120',\n",
              " '1003,Printer,599,50',\n",
              " '1004,Scanner,499,130',\n",
              " '1005,Joystick,299,50',\n",
              " '1006,CPU,9999,100']"
            ]
          },
          "metadata": {},
          "execution_count": 13
        }
      ]
    },
    {
      "cell_type": "markdown",
      "metadata": {
        "id": "ekGOnfmrHKt8"
      },
      "source": [
        "**Purchase Function**"
      ]
    },
    {
      "cell_type": "code",
      "metadata": {
        "id": "_f0wVZZ-0qUt"
      },
      "source": [
        "def purchase():\n",
        "  ui_prod = input(\"Enter the product id : \")\n",
        "  ui_qty = int(input(\"Enter the quantity : \"))\n",
        "\n",
        "\n",
        "  for product in products:\n",
        "    prod = product.split(',')\n",
        "\n",
        "    uid = True\n",
        "    if prod[0] == ui_prod:\n",
        "      print(\"***********************\")\n",
        "      print(\"Product ID: \", prod[0])\n",
        "      print(\"Name: \", prod[1])\n",
        "      print(\"Price: \",prod[2])\n",
        "      if ui_qty > int(prod[3]):\n",
        "        print(\"WE DON'T HAVE SUFFICIENT QUANTITY OF THIS PRODUCT!!!\")\n",
        "        print(\"***********************\")\n",
        "        break;\n",
        "      else:\n",
        "        print(\"------------------------\")\n",
        "        print(\"Billing Amout: \", ui_qty * int(prod[2]))\n",
        "        print(\"***********************\")\n",
        "        break;\n",
        "    else:\n",
        "      uid=False\n",
        "\n",
        "  if(uid == False):\n",
        "    print(\"Product is not available for the user entered id!!!\") \n",
        "\n",
        "  new_record = []\n",
        "\n",
        "  for product in products:\n",
        "      prod = product.split(\",\")\n",
        "      if(ui_prod == prod[0]):\n",
        "          prod[3] = str(int(prod[3]) - ui_qty)\n",
        "          \n",
        "      new_record.append(prod[0] + \",\" + prod[1] + \",\" + prod[2] + \",\" + prod[3] + \"\\n\")\n",
        "      \n",
        "  new_record[-1] = new_record[-1][:-1]\n",
        "\n",
        "  fd = open(\"Records.txt\", 'w')\n",
        "\n",
        "  for i in new_record:\n",
        "      fd.write(i)\n",
        "      \n",
        "  fd.close()"
      ],
      "execution_count": null,
      "outputs": []
    },
    {
      "cell_type": "markdown",
      "metadata": {
        "id": "OeKAEmJJHWpr"
      },
      "source": [
        "**Add new item Function**"
      ]
    },
    {
      "cell_type": "code",
      "metadata": {
        "id": "PS7Ds3VtBFh0"
      },
      "source": [
        "def add_new_item():\n",
        "  prod_id = input(\"Enter the product id : \")\n",
        "  prod_name = input(\"Enter the product name : \")\n",
        "  prod_price = int(input(\"Enter the product price : \"))\n",
        "  prod_qty = int(input(\"Enter the product quantity : \"))\n",
        "\n",
        "  for product in products:\n",
        "      prod = product.split(\",\")\n",
        "\n",
        "      id = 'true'\n",
        "      if prod_id == prod[0]:\n",
        "        id = 'false'\n",
        "        break;\n",
        "\n",
        "  if(id == 'true'):    \n",
        "    item = prod_id+\",\"+prod_name+\",\"+str(prod_price)+\",\"+str(prod_qty)\n",
        "    print(item)\n",
        "    products.append(item)\n",
        "    products\n",
        "    print(\"product added successfully!\")\n",
        "  else:\n",
        "    print(\"Product with the same id already exists!\")\n",
        "\n",
        "  new_record = []\n",
        "\n",
        "  for product in products:\n",
        "      prod = product.split(\",\")\n",
        "        \n",
        "      new_record.append(prod[0] + \",\" + prod[1] + \",\" + prod[2] + \",\" + prod[3] + \"\\n\")\n",
        "      \n",
        "  new_record[-1] = new_record[-1][:-1]\n",
        "\n",
        "  fd = open(\"Records.txt\", 'w')\n",
        "\n",
        "  for i in new_record:\n",
        "        fd.write(i)\n",
        "        \n",
        "  fd.close()"
      ],
      "execution_count": null,
      "outputs": []
    },
    {
      "cell_type": "markdown",
      "metadata": {
        "id": "1D0UXIDJHOzg"
      },
      "source": [
        "**Update Function**"
      ]
    },
    {
      "cell_type": "code",
      "metadata": {
        "id": "HRpzV4PnywY2"
      },
      "source": [
        "def update():\n",
        "\n",
        "  prod_id = input(\"\\nEnter the product id : \")\n",
        "  upd_price = int(input(\"Enter the new product price : \"))\n",
        "  upd_qty = int(input(\"Enter the product quantity : \"))\n",
        "\n",
        "  new_records = []\n",
        "\n",
        "  for product in products:\n",
        "      prod = product.split(\",\")\n",
        "      if prod_id == prod[0]:\n",
        "          prod[2] = str(upd_price)\n",
        "          prod[3] = str(int(prod[3])+upd_qty)\n",
        "          new_records.append(prod[0] + \",\" + prod[1] + \",\" + prod[2] + \",\" + prod[3] + \"\\n\")\n",
        "          print(\"\\nUpdate successfully! \\n\")\n",
        "      else:\n",
        "          new_records.append(prod[0] + \",\" + prod[1] + \",\" + prod[2] + \",\" + prod[3] + \"\\n\")\n",
        "\n",
        "  new_records[-1] = new_records[-1][:-1]\n",
        "\n",
        "  fd = open(\"Records.txt\", 'w')\n",
        "\n",
        "  for i in new_records:\n",
        "        fd.write(i)\n",
        "        \n",
        "  fd.close()"
      ],
      "execution_count": null,
      "outputs": []
    },
    {
      "cell_type": "markdown",
      "metadata": {
        "id": "ZgpSXOGUHb33"
      },
      "source": [
        "**Display Function**"
      ]
    },
    {
      "cell_type": "code",
      "metadata": {
        "id": "Ec9srUfh1pMw"
      },
      "source": [
        "def display():\n",
        "\n",
        "  fp = open(\"Records.txt\",'r')\n",
        "  file_data = fp.read()\n",
        "  file_data\n",
        "\n",
        "  products = file_data.split('\\n')\n",
        "\n",
        "  for product in products:\n",
        "      prod = product.split(\",\")\n",
        "      print(prod)\n"
      ],
      "execution_count": null,
      "outputs": []
    },
    {
      "cell_type": "markdown",
      "metadata": {
        "id": "USKR4CscHfwq"
      },
      "source": [
        "**Main Function**"
      ]
    },
    {
      "cell_type": "code",
      "metadata": {
        "colab": {
          "base_uri": "https://localhost:8080/"
        },
        "id": "vsvNOk7L0erQ",
        "outputId": "a8f9f787-605b-4815-dd49-75373399fdf6"
      },
      "source": [
        "whoAreU = input(\"Are u a admin or user?(Admin/User) : \")\n",
        "print(\"\\nYou are an \",whoAreU,\"\\n\")\n",
        "if whoAreU == 'User':\n",
        "  print(\"Enter the required details : \\n\")\n",
        "  purchase()\n",
        "elif whoAreU == 'Admin':\n",
        "  choice = input(\"What u want to do? add or update or display : \")\n",
        "  if choice == 'add':\n",
        "    add_new_item()\n",
        "  elif choice == 'update':\n",
        "    update()\n",
        "    ch = input(\"Do you want to see the updated data ? (Y/N) : \")\n",
        "    if ch == 'Y':\n",
        "      print(\"***Updated Data****\")\n",
        "      display()\n",
        "    else:\n",
        "      pass\n",
        "  elif choice == 'display':\n",
        "    print(\"\\nFollowing is the data present in your store!!! \\n\")\n",
        "    display()\n"
      ],
      "execution_count": null,
      "outputs": [
        {
          "output_type": "stream",
          "name": "stdout",
          "text": [
            "Are u a admin or user?(Admin/User) : Admin\n",
            "\n",
            "You are an  Admin \n",
            "\n",
            "What u want to do? add or update or display : display\n",
            "\n",
            "Following is the data present in your store!!! \n",
            "\n",
            "['1000', 'Laptop', '3999', '200']\n",
            "['1001', 'Mouse', '2799', '205']\n",
            "['1002', 'Keyboard', '1999', '120']\n",
            "['1003', 'Printer', '599', '50']\n",
            "['1004', 'Scanner', '499', '130']\n",
            "['1005', 'Joystick', '299', '50']\n",
            "['1006', 'CPU', '9999', '100']\n"
          ]
        }
      ]
    }
  ]
}